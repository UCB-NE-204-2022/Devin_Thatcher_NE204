{
 "cells": [
  {
   "cell_type": "markdown",
   "id": "d06b60d6",
   "metadata": {},
   "source": [
    "## NE 204 Lab 2"
   ]
  },
  {
   "cell_type": "code",
   "execution_count": null,
   "id": "be76da69",
   "metadata": {},
   "outputs": [],
   "source": []
  }
 ],
 "metadata": {
  "kernelspec": {
   "display_name": "Python 3.10.8 64-bit",
   "language": "python",
   "name": "python3"
  },
  "language_info": {
   "codemirror_mode": {
    "name": "ipython",
    "version": 3
   },
   "file_extension": ".py",
   "mimetype": "text/x-python",
   "name": "python",
   "nbconvert_exporter": "python",
   "pygments_lexer": "ipython3",
   "version": "3.10.8"
  },
  "vscode": {
   "interpreter": {
    "hash": "2c3e112198d636648eddb746d72f9dc13326ec26e0cf4937386103d26f40d8fb"
   }
  }
 },
 "nbformat": 4,
 "nbformat_minor": 5
}
