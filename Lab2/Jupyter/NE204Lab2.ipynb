{
 "cells": [
  {
   "cell_type": "markdown",
   "metadata": {},
   "source": [
    "# NE204 Lab 2"
   ]
  },
  {
   "cell_type": "markdown",
   "metadata": {},
   "source": [
    "# Importing libraries and defining functions"
   ]
  },
  {
   "cell_type": "code",
   "execution_count": null,
   "metadata": {},
   "outputs": [],
   "source": [
    "import os\n",
    "import numpy as np\n",
    "import pandas as pd\n",
    "import matplotlib.pyplot as plt\n",
    "import h5py\n",
    "from scipy.optimize import curve_fit\n",
    "from scipy.signal import find_peaks, peak_widths"
   ]
  },
  {
   "cell_type": "code",
   "execution_count": null,
   "metadata": {},
   "outputs": [],
   "source": [
    "def ViewPulses(filelocation, events, XRange, preTrgrDly):\n",
    "    with h5py.File(filelocation, 'r') as f:\n",
    "        for a in range(events):\n",
    "            pulse = np.array(f['raw_data'][a])  # type: ignore\n",
    "            baseline = np.average(pulse[:preTrgrDly-100])\n",
    "            pulse = pulse - baseline\n",
    "            plt.plot(range(XRange[0], XRange[1]), pulse[XRange[0]:XRange[1]])\n",
    "        plt.xlabel(\"Counts (4 nanoseconds per)\")\n",
    "        plt.ylabel(\"Units proportional to voltage\")\n",
    "\n",
    "def CreateSpectra(filelocation, events, preTrgrDly, risetime):\n",
    "    with h5py.File(filelocation, 'r') as f:\n",
    "        spectra = []\n",
    "        for a in range(events):\n",
    "            pulse = np.array(f['raw_data'][a])  # type: ignore\n",
    "            baseline = np.average(pulse[:preTrgrDly-100])\n",
    "            pulse = pulse - baseline\n",
    "            sum = np.sum(pulse[preTrgrDly-100:preTrgrDly+risetime-100])\n",
    "            if sum > 0:\n",
    "                spectra.append(sum)\n",
    "        return(spectra)\n",
    "\n",
    "def Gaussian(x, a, b, c, d):\n",
    "    return a*np.exp(-(x-b)**2/(2*c**2))+d\n",
    "\n",
    "def PeakInfo(hist, d, promF):\n",
    "    peaklocations, _ = find_peaks(hist, distance=d, prominence=int(np.amax(hist))/promF)\n",
    "    widths = peak_widths(hist, peaklocations, rel_height=0.5)\n",
    "    Xranges = []\n",
    "    coefficients = []\n",
    "    numberofpeaks = 0\n",
    "    FWHMs = []\n",
    "    for i in range(len(peaklocations)):\n",
    "        try:\n",
    "            left = int(peaklocations[i]-widths[0][i])\n",
    "            right = int(peaklocations[i]+widths[0][i])\n",
    "            x = np.linspace(left, right, right-left)\n",
    "            popt, pcov = curve_fit(Gaussian, x, hist[left:right], [hist[peaklocations[i]], peaklocations[i], widths[0][i], 0])\n",
    "            popt[2] = np.abs(popt[2])\n",
    "            Xranges.append(x)\n",
    "            coefficients.append(popt)\n",
    "            numberofpeaks += 1\n",
    "            FWHMs.append(widths[0][i])\n",
    "        except:\n",
    "            pass\n",
    "    return Xranges, coefficients, numberofpeaks, FWHMs\n"
   ]
  },
  {
   "cell_type": "markdown",
   "metadata": {},
   "source": [
    "# Plotting raw raveforms"
   ]
  },
  {
   "cell_type": "markdown",
   "metadata": {},
   "source": [
    "Specifying that rise time starts 100 before trigger (preTrgrDly-100)"
   ]
  },
  {
   "cell_type": "code",
   "execution_count": null,
   "metadata": {},
   "outputs": [],
   "source": [
    "filelocation = r\"C:\\Users\\Operator\\Documents\\Devin\\Code\\Data\\NaI_Cs137_4cm_30.h5\"\n",
    "events = 50\n",
    "XRange = (900,2000)\n",
    "preTrgrDly = 1000\n",
    "ViewPulses(filelocation, events, XRange, preTrgrDly)\n",
    "plt.title('NaI: 50 pulses from Cs-137 (4cm away)')\n",
    "plt.show()"
   ]
  },
  {
   "cell_type": "code",
   "execution_count": null,
   "metadata": {},
   "outputs": [],
   "source": [
    "filelocation = r\"C:\\Users\\Operator\\Documents\\Devin\\Code\\Data\\NaI_Cs137_28cm_30.h5\"\n",
    "events = 50\n",
    "XRange = (900,2000)\n",
    "preTrgrDly = 1000\n",
    "ViewPulses(filelocation, events, XRange, preTrgrDly)\n",
    "plt.title('NaI: 50 pulses from Cs-137 (28 cm away)')\n",
    "plt.show()"
   ]
  },
  {
   "cell_type": "markdown",
   "metadata": {},
   "source": [
    "The initial pulses generally decay mostly away by about 300 counts after the trigger (1.2 microseconds), so I will use 400 as the initial guess for rise time. Don't see much of a difference in pile-up rate between 4 and 28 cm away however. Noting that since the pulse heights seem to average around 1000, integrating over 400 counts would give pulses that are almost all under 400*1000 = 400000. So I will set the histogram range to 0, 400000"
   ]
  },
  {
   "cell_type": "code",
   "execution_count": null,
   "metadata": {},
   "outputs": [],
   "source": [
    "filelocation = r\"C:\\Users\\Operator\\Documents\\Devin\\Code\\Data\\EJ309_Cs137_60s.h5\"\n",
    "events = 50\n",
    "XRange = (980,995)\n",
    "preTrgrDly = 1000\n",
    "ViewPulses(filelocation, events, XRange, preTrgrDly)\n",
    "plt.title('EJ309: 50 pulses from Cs-137')\n",
    "plt.show()"
   ]
  },
  {
   "cell_type": "code",
   "execution_count": null,
   "metadata": {},
   "outputs": [],
   "source": [
    "filelocation = r\"C:\\Users\\Operator\\Documents\\Devin\\Code\\Data\\EJ309_Cf252_60s.h5\"\n",
    "events = 50\n",
    "XRange = (980,995)\n",
    "preTrgrDly = 1000\n",
    "ViewPulses(filelocation, events, XRange, preTrgrDly)\n",
    "plt.title('EJ309: 50 pulses from Cf-252')\n",
    "plt.show()"
   ]
  },
  {
   "cell_type": "code",
   "execution_count": null,
   "metadata": {},
   "outputs": [],
   "source": [
    "filelocation = r\"C:\\Users\\Operator\\Documents\\Devin\\Code\\Data\\EJ301_Cs137_60s.h5\"\n",
    "events = 50\n",
    "XRange = (975,1000)\n",
    "preTrgrDly = 1000\n",
    "ViewPulses(filelocation, events, XRange, preTrgrDly)\n",
    "plt.title('EJ301: 50 pulses from Cs-137')\n",
    "plt.show()"
   ]
  },
  {
   "cell_type": "code",
   "execution_count": null,
   "metadata": {},
   "outputs": [],
   "source": [
    "filelocation = r\"C:\\Users\\Operator\\Documents\\Devin\\Code\\Data\\CLLBC_Cs137_60s.h5\"\n",
    "events = 50\n",
    "XRange = (900,1100)\n",
    "preTrgrDly = 1000\n",
    "ViewPulses(filelocation, events, XRange, preTrgrDly)\n",
    "plt.title('CLLBC: 50 pulses from Cs-137')\n",
    "plt.show()"
   ]
  },
  {
   "cell_type": "markdown",
   "metadata": {},
   "source": [
    "Will have to return to lab to get more data with CLLBC, did not capture the whole decay with 1100 counts per event. "
   ]
  },
  {
   "cell_type": "markdown",
   "metadata": {},
   "source": [
    "# Analyzing NaI Cs-137 Data to find optimal integration period"
   ]
  },
  {
   "cell_type": "code",
   "execution_count": null,
   "metadata": {},
   "outputs": [],
   "source": [
    "filelocation = r\"C:\\Users\\Operator\\Documents\\Devin\\Code\\Data\\NaI_Cs137_4cm_30.h5\"\n",
    "events = 200000\n",
    "preTrgrDly = 1000\n",
    "peakdistance = 10\n",
    "prominencefactor = 10\n",
    "risetime = 400\n",
    "spectra = CreateSpectra(filelocation, events, preTrgrDly, risetime)\n",
    "print(np.max(spectra))\n",
    "hist, bins = np.histogram(spectra, bins = 2000, range = (0, 400000))\n",
    "plt.plot(range(np.size(hist)), hist, label=\"risetime =\" + str(risetime))\n",
    "Xranges, coefficients, numberofpeaks, FWHMs = PeakInfo(hist, peakdistance, prominencefactor)\n",
    "for i in range(numberofpeaks):\n",
    "    plt.plot(Xranges[i], Gaussian(Xranges[i], *coefficients[i]), label=\"peak \" + str(i+1))\n",
    "    print(\"Centroid is at: \" + str(coefficients[i][1]))\n",
    "    print(\"FWHM is: \" + str(2.35*coefficients[i][2]))\n",
    "    print(\"% Resolution = \" + str(100*2.35*coefficients[i][2]/coefficients[i][1]))\n",
    "plt.legend(loc='upper right')\n",
    "plt.show()"
   ]
  },
  {
   "cell_type": "markdown",
   "metadata": {},
   "source": [
    "Seems like the range can be decreased to half of before. Noting that the maximum of the spectra has a value of 1,110,000. "
   ]
  },
  {
   "cell_type": "code",
   "execution_count": null,
   "metadata": {},
   "outputs": [],
   "source": [
    "filelocation = r\"C:\\Users\\Operator\\Documents\\Devin\\Code\\Data\\NaI_Cs137_4cm_30.h5\"\n",
    "risetime = 200\n",
    "\n",
    "spectra = CreateSpectra(filelocation, events, preTrgrDly, risetime)\n",
    "hist, bins = np.histogram(spectra, bins = 1000, range = (0, 200000))\n",
    "plt.plot(range(np.size(hist)), hist, label=\"risetime =\" + str(risetime))\n",
    "Xranges, coefficients, numberofpeaks, FWHMs = PeakInfo(hist, peakdistance, prominencefactor)\n",
    "for i in range(numberofpeaks):\n",
    "    plt.plot(Xranges[i], Gaussian(Xranges[i], *coefficients[i]), label=\"peak \" + str(i+1))\n",
    "    print(\"Centroid is at: \" + str(coefficients[i][1]))\n",
    "    print(\"FWHM is: \" + str(2.35*coefficients[i][2]))\n",
    "    print(\"% Resolution = \" + str(100*2.35*coefficients[i][2]/coefficients[i][1]))\n",
    "\n",
    "filelocation = r\"C:\\Users\\Operator\\Documents\\Devin\\Code\\Data\\NaI_Cs137_4cm_30.h5\"\n",
    "risetime = 1000\n",
    "\n",
    "spectra = CreateSpectra(filelocation, events, preTrgrDly, risetime)\n",
    "hist, bins = np.histogram(spectra, bins = 1000, range = (0, 200000))\n",
    "plt.plot(range(np.size(hist)), hist, label=\"risetime =\" + str(risetime))\n",
    "Xranges, coefficients, numberofpeaks, FWHMs = PeakInfo(hist, peakdistance, prominencefactor)\n",
    "for i in range(numberofpeaks):\n",
    "    plt.plot(Xranges[i], Gaussian(Xranges[i], *coefficients[i]), label=\"peak \" + str(i+1))\n",
    "    print(\"Centroid is at: \" + str(coefficients[i][1]))\n",
    "    print(\"FWHM is: \" + str(2.35*coefficients[i][2]))\n",
    "    print(\"% Resolution = \" + str(100*2.35*coefficients[i][2]/coefficients[i][1]))\n",
    "\n",
    "plt.legend(loc='upper right')\n",
    "plt.show()"
   ]
  },
  {
   "cell_type": "markdown",
   "metadata": {},
   "source": [
    "Comparing integration periods of 200 and 1000 counts, the spectra created from a longer rise time will have a photopeak that shows up further to the right on the graph since more of the pulse is integrated over. Setting the integration period to 1000 shows a second peak at twice the magnitude, due to integrating over two pulses. \n",
    "\n",
    "With 1000 bins for a range of 200000, equivalent bin size for a full range of values (up to 1110000) would require ~6000 bins."
   ]
  },
  {
   "cell_type": "code",
   "execution_count": null,
   "metadata": {},
   "outputs": [],
   "source": [
    "filelocation = r\"C:\\Users\\Operator\\Documents\\Devin\\Code\\Data\\NaI_Cs137_28cm_30.h5\"\n",
    "risetime = 200\n",
    "\n",
    "spectra = CreateSpectra(filelocation, events, preTrgrDly, risetime)\n",
    "hist, bins = np.histogram(spectra, bins = 1000, range = (0, 200000))\n",
    "plt.plot(range(np.size(hist)), hist, label=\"risetime =\" + str(risetime))\n",
    "Xranges, coefficients, numberofpeaks, FWHMs = PeakInfo(hist, peakdistance, prominencefactor)\n",
    "for i in range(numberofpeaks):\n",
    "    plt.plot(Xranges[i], Gaussian(Xranges[i], *coefficients[i]), label=\"peak \" + str(i+1))\n",
    "    print(\"Centroid is at: \" + str(coefficients[i][1]))\n",
    "    print(\"FWHM is: \" + str(2.35*coefficients[i][2]))\n",
    "    print(\"% Resolution = \" + str(100*2.35*coefficients[i][2]/coefficients[i][1]))\n",
    "\n",
    "filelocation = r\"C:\\Users\\Operator\\Documents\\Devin\\Code\\Data\\NaI_Cs137_28cm_30.h5\"\n",
    "risetime = 1000\n",
    "\n",
    "spectra = CreateSpectra(filelocation, events, preTrgrDly, risetime)\n",
    "hist, bins = np.histogram(spectra, bins = 1000, range = (0, 200000))\n",
    "plt.plot(range(np.size(hist)), hist, label=\"risetime =\" + str(risetime))\n",
    "Xranges, coefficients, numberofpeaks, FWHMs = PeakInfo(hist, peakdistance, prominencefactor)\n",
    "for i in range(numberofpeaks):\n",
    "    plt.plot(Xranges[i], Gaussian(Xranges[i], *coefficients[i]), label=\"peak \" + str(i+1))\n",
    "    print(\"Centroid is at: \" + str(coefficients[i][1]))\n",
    "    print(\"FWHM is: \" + str(2.35*coefficients[i][2]))\n",
    "    print(\"% Resolution = \" + str(100*2.35*coefficients[i][2]/coefficients[i][1]))\n",
    "\n",
    "plt.legend(loc='upper right')\n",
    "plt.show()"
   ]
  },
  {
   "cell_type": "markdown",
   "metadata": {},
   "source": [
    "Seems like the resolution for the Cs-137 662 keV gamma peak doesn't change drastically between having the source 4 cm away from the detector, and 28 cm away. Going to calculate the resolution for all distances we took data for, integrating over an increasing range of counts: from 200 to 1000. Going to use the full range of values for each spectra because of the different ranges over which the pulse is integrated, and using 6000 bins to get about the same range of values per bin as the two plots above."
   ]
  },
  {
   "cell_type": "code",
   "execution_count": null,
   "metadata": {},
   "outputs": [],
   "source": [
    "filelocations = [ \n",
    "    r\"C:\\Users\\Operator\\Documents\\Devin\\Code\\Data\\NaI_Cs137_4cm_30.h5\", \n",
    "    r\"C:\\Users\\Operator\\Documents\\Devin\\Code\\Data\\NaI_Cs137_8cm_30.h5\", \n",
    "    r\"C:\\Users\\Operator\\Documents\\Devin\\Code\\Data\\NaI_Cs137_12cm_30.h5\",\n",
    "    r\"C:\\Users\\Operator\\Documents\\Devin\\Code\\Data\\NaI_Cs137_16cm_30.h5\",\n",
    "    r\"C:\\Users\\Operator\\Documents\\Devin\\Code\\Data\\NaI_Cs137_20cm_30.h5\",\n",
    "    r\"C:\\Users\\Operator\\Documents\\Devin\\Code\\Data\\NaI_Cs137_24cm_30.h5\",\n",
    "    r\"C:\\Users\\Operator\\Documents\\Devin\\Code\\Data\\NaI_Cs137_28cm_30.h5\",\n",
    "    ]\n",
    "\n",
    "filenames = []\n",
    "data = []\n",
    "for a in filelocations:\n",
    "    row = []\n",
    "    filelocation = a\n",
    "    filenames.append(os.path.split(a)[1])\n",
    "    events = 200000\n",
    "    preTrgrDly = 1000\n",
    "    peakdistance = 10\n",
    "    prominencefactor = 10\n",
    "    for b in range(9):\n",
    "        resolutions = []\n",
    "        risetime = 100*(b+2)\n",
    "        spectra = CreateSpectra(filelocation, events, preTrgrDly, risetime)\n",
    "        hist, bins = np.histogram(spectra, bins = 6000)\n",
    "        Xranges, coefficients, numberofpeaks, FWHMs = PeakInfo(hist, peakdistance, prominencefactor)\n",
    "        for i in range(numberofpeaks):\n",
    "            resolutions.append(100*2.35*coefficients[i][2]/coefficients[i][1])\n",
    "        row.append(np.average(resolutions))    \n",
    "    data.append(row)\n",
    "\n",
    "df = pd.DataFrame(data, index=filenames, columns=100*(np.array(range(9))+2))\n",
    "df.style.background_gradient(axis=None)\n",
    "\n"
   ]
  },
  {
   "cell_type": "markdown",
   "metadata": {},
   "source": [
    "This heatmap of the resolutions of the Cs-137 662 keV peak show that generally, optimal resolution results from integrating the pulse over 400 counts, starting from 100 counts before the trigger. One can see that rise times that are especially long (between 800 and 1000 counts) impair resolution the most for the data taken with the source 4 cm away.\n",
    "\n",
    "For 200000 events per, this process took 49 minutes."
   ]
  },
  {
   "cell_type": "markdown",
   "metadata": {},
   "source": [
    "# Measuring energy resolutions"
   ]
  },
  {
   "cell_type": "code",
   "execution_count": null,
   "metadata": {},
   "outputs": [],
   "source": [
    "total_peakinfo = []\n",
    "energies = []"
   ]
  },
  {
   "cell_type": "markdown",
   "metadata": {},
   "source": [
    "Will add to this list to create energy calibration"
   ]
  },
  {
   "cell_type": "code",
   "execution_count": null,
   "metadata": {},
   "outputs": [],
   "source": [
    "filelocation = r\"C:\\Users\\Operator\\Documents\\Devin\\Code\\Data\\NaI_Co60_120s.h5\"\n",
    "risetime = 400\n",
    "prominencefactor = 10\n",
    "peakinfo = []\n",
    "\n",
    "spectra = CreateSpectra(filelocation, events, preTrgrDly, risetime)\n",
    "hist, bins = np.histogram(spectra, bins = 500, range = (0, 200000))\n",
    "plt.plot(range(np.size(hist)), hist, label=\"risetime =\" + str(risetime))\n",
    "Xranges, coefficients, numberofpeaks, FWHMs = PeakInfo(hist, peakdistance, prominencefactor)\n",
    "for i in range(numberofpeaks):\n",
    "    plt.plot(Xranges[i], Gaussian(Xranges[i], *coefficients[i]), label=\"peak \" + str(i+1))\n",
    "    peakinfo.append([coefficients[i][1], 100*2.35*coefficients[i][2]/coefficients[i][1]])\n",
    "    print(\"Centroid is at: \" + str(coefficients[i][1]))\n",
    "    print(\"FWHM is: \" + str(2.35*coefficients[i][2]))\n",
    "    print(\"% Resolution = \" + str(100*2.35*coefficients[i][2]/coefficients[i][1]))\n",
    "plt.legend(loc='upper right')\n",
    "plt.show()"
   ]
  },
  {
   "cell_type": "code",
   "execution_count": null,
   "metadata": {},
   "outputs": [],
   "source": [
    "print(peakinfo)\n",
    "total_peakinfo.extend(peakinfo)\n",
    "energies.extend([1173.2, 1332.5])"
   ]
  },
  {
   "cell_type": "code",
   "execution_count": null,
   "metadata": {},
   "outputs": [],
   "source": [
    "filelocation = r\"C:\\Users\\Operator\\Documents\\Devin\\Code\\Data\\NaI_Eu152_120s.h5\"\n",
    "prominencefactor = 20\n",
    "peakinfo = []\n",
    "\n",
    "spectra = CreateSpectra(filelocation, events, preTrgrDly, risetime)\n",
    "hist, bins = np.histogram(spectra, bins = 500, range = (0,200000))\n",
    "plt.plot(range(np.size(hist)), hist, label=\"risetime =\" + str(risetime))\n",
    "Xranges, coefficients, numberofpeaks, FWHMs = PeakInfo(hist, peakdistance, prominencefactor)\n",
    "for i in range(numberofpeaks):\n",
    "    plt.plot(Xranges[i], Gaussian(Xranges[i], *coefficients[i]), label=\"peak \" + str(i+1))\n",
    "    peakinfo.append([coefficients[i][1], 100*2.35*coefficients[i][2]/coefficients[i][1]])\n",
    "    print(\"Centroid is at: \" + str(coefficients[i][1]))\n",
    "    print(\"FWHM is: \" + str(2.35*coefficients[i][2]))\n",
    "    print(\"% Resolution = \" + str(100*2.35*coefficients[i][2]/coefficients[i][1]))\n",
    "plt.legend(loc='upper right')\n",
    "plt.show()"
   ]
  },
  {
   "cell_type": "markdown",
   "metadata": {},
   "source": [
    "Will not add peaks 1 and 2 to list"
   ]
  },
  {
   "cell_type": "code",
   "execution_count": null,
   "metadata": {},
   "outputs": [],
   "source": [
    "print(peakinfo[2:])\n",
    "total_peakinfo.extend(peakinfo[2:])\n",
    "energies.extend([121.8, 244.7, 344.3, 778.9, 964.1, 1112.1, 1408])"
   ]
  },
  {
   "cell_type": "code",
   "execution_count": null,
   "metadata": {},
   "outputs": [],
   "source": [
    "filelocation = r\"C:\\Users\\Operator\\Documents\\Devin\\Code\\Data\\NaI_Na22_120s.h5\"\n",
    "prominencefactor = 10\n",
    "peakinfo = []\n",
    "\n",
    "spectra = CreateSpectra(filelocation, events, preTrgrDly, risetime)\n",
    "hist, bins = np.histogram(spectra, bins = 500, range = (0,200000))\n",
    "plt.plot(range(np.size(hist)), hist, label=\"risetime =\" + str(risetime))\n",
    "Xranges, coefficients, numberofpeaks, FWHMs = PeakInfo(hist, peakdistance, prominencefactor)\n",
    "for i in range(numberofpeaks):\n",
    "    plt.plot(Xranges[i], Gaussian(Xranges[i], *coefficients[i]), label=\"peak \" + str(i+1))\n",
    "    peakinfo.append([coefficients[i][1], 100*2.35*coefficients[i][2]/coefficients[i][1]])\n",
    "    print(\"Centroid is at: \" + str(coefficients[i][1]))\n",
    "    print(\"FWHM is: \" + str(2.35*coefficients[i][2]))\n",
    "    print(\"% Resolution = \" + str(100*2.35*coefficients[i][2]/coefficients[i][1]))\n",
    "plt.legend(loc='upper right')\n",
    "plt.show()"
   ]
  },
  {
   "cell_type": "markdown",
   "metadata": {},
   "source": [
    "Will not add peaks 1 and 2 to list (511 keV peak should not be used)"
   ]
  },
  {
   "cell_type": "code",
   "execution_count": null,
   "metadata": {},
   "outputs": [],
   "source": [
    "print(peakinfo[2:])\n",
    "total_peakinfo.extend(peakinfo[2:])\n",
    "energies.extend([1274.5])"
   ]
  },
  {
   "cell_type": "code",
   "execution_count": null,
   "metadata": {},
   "outputs": [],
   "source": [
    "filelocation = r\"C:\\Users\\Operator\\Documents\\Devin\\Code\\Data\\NaI_Ba133_120s.h5\"\n",
    "prominencefactor = 15\n",
    "peakinfo = []\n",
    "\n",
    "spectra = CreateSpectra(filelocation, events, preTrgrDly, risetime)\n",
    "hist, bins = np.histogram(spectra, bins = 200, range = (0,80000))\n",
    "plt.plot(range(np.size(hist)), hist, label=\"risetime =\" + str(risetime))\n",
    "Xranges, coefficients, numberofpeaks, FWHMs = PeakInfo(hist, peakdistance, prominencefactor)\n",
    "for i in range(numberofpeaks):\n",
    "    plt.plot(Xranges[i], Gaussian(Xranges[i], *coefficients[i]), label=\"peak \" + str(i+1))\n",
    "    peakinfo.append([coefficients[i][1], 100*2.35*coefficients[i][2]/coefficients[i][1]])\n",
    "    print(\"Centroid is at: \" + str(coefficients[i][1]))\n",
    "    print(\"FWHM is: \" + str(2.35*coefficients[i][2]))\n",
    "    print(\"% Resolution = \" + str(100*2.35*coefficients[i][2]/coefficients[i][1]))\n",
    "plt.legend(loc='upper right')\n",
    "plt.show()"
   ]
  },
  {
   "cell_type": "markdown",
   "metadata": {},
   "source": [
    "I don't believe the second peak is a gamma peak"
   ]
  },
  {
   "cell_type": "code",
   "execution_count": null,
   "metadata": {},
   "outputs": [],
   "source": [
    "del peakinfo[1]\n",
    "print(peakinfo)\n",
    "total_peakinfo.extend(peakinfo)\n",
    "energies.extend([81, 302, 356])\n"
   ]
  },
  {
   "cell_type": "code",
   "execution_count": null,
   "metadata": {},
   "outputs": [],
   "source": [
    "all_peaks = np.array(total_peakinfo)[:,0]\n",
    "plt.scatter(all_peaks, energies)\n",
    "def Linear(x, a, b):\n",
    "    return a*x+b\n",
    "popt, pcov = curve_fit(Linear, np.array(total_peakinfo)[:,0], energies)\n",
    "print(popt)\n",
    "x = np.linspace(int(np.min(all_peaks)), int(np.max(all_peaks)), int(np.max(all_peaks)-np.min(all_peaks)))\n",
    "plt.plot(x, Linear(x, *popt))\n",
    "plt.xlabel(\"Channels\")\n",
    "plt.ylabel(\"Energies in keV\")\n",
    "plt.show()\n"
   ]
  },
  {
   "cell_type": "code",
   "execution_count": null,
   "metadata": {},
   "outputs": [],
   "source": [
    "all_resolutions = np.array(total_peakinfo)[:,1]\n",
    "plt.scatter(all_peaks, all_resolutions)\n",
    "plt.show()"
   ]
  },
  {
   "cell_type": "code",
   "execution_count": null,
   "metadata": {},
   "outputs": [],
   "source": [
    "plt.scatter(np.log(all_peaks), np.log(all_resolutions))\n",
    "plt.show()"
   ]
  }
 ],
 "metadata": {
  "kernelspec": {
   "display_name": "Python 3.10.8 64-bit",
   "language": "python",
   "name": "python3"
  },
  "language_info": {
   "codemirror_mode": {
    "name": "ipython",
    "version": 3
   },
   "file_extension": ".py",
   "mimetype": "text/x-python",
   "name": "python",
   "nbconvert_exporter": "python",
   "pygments_lexer": "ipython3",
   "version": "3.10.8"
  },
  "orig_nbformat": 4,
  "vscode": {
   "interpreter": {
    "hash": "2c3e112198d636648eddb746d72f9dc13326ec26e0cf4937386103d26f40d8fb"
   }
  }
 },
 "nbformat": 4,
 "nbformat_minor": 2
}
